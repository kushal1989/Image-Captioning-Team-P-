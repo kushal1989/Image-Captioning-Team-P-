{
 "cells": [
  {
   "cell_type": "markdown",
   "id": "e3a67aa7",
   "metadata": {},
   "source": [
    "# Data Preparation — Team A\n",
    "\n",
    "_Last updated: 2025-07-30_\n",
    "\n",
    "\n",
    "**Team A — Data Preparation**\n",
    "\n",
    "**Tasks**\n",
    "1. Download MS COCO (train/val images + captions).\n",
    "2. Resize to **299×299**, normalize pixels.\n",
    "3. Tokenize captions, pad to `max_caption_len`, add `<start>/<end>` tokens.\n",
    "4. Save `tokenizer.pkl` (and `vocab.json`) under `artifacts/` path from config or manifest.\n",
    "5. Update `artifacts/MANIFEST.json` when artifacts are produced.\n",
    "\n",
    "**Where code lives**\n",
    "- Put reusable functions in `src/data/` and import them here.\n",
    "- Keep this notebook as the runner for your functions.\n",
    "\n",
    "**Deliverables**\n",
    "- Tokenizer artifact\n",
    "- Small sanity dataset preview (5–10 samples)\n"
   ]
  },
  {
   "cell_type": "code",
   "execution_count": null,
   "id": "87c2bb22",
   "metadata": {},
   "outputs": [],
   "source": [
    "\n",
    "# Mount Drive (optional)\n",
    "from google.colab import drive\n",
    "try:\n",
    "    drive.mount('/content/drive')\n",
    "except Exception as e:\n",
    "    print(\"Drive mount skipped or failed:\", e)\n",
    "\n",
    "# Clone or update the repo\n",
    "import os, sys\n",
    "REPO = \"Image-Captioning-Team-P-\"\n",
    "URL  = \"https://github.com/kushal1989/\" + REPO + \".git\"\n",
    "\n",
    "if not os.path.exists(f\"/content/{REPO}\"):\n",
    "    !git clone $URL /content/$REPO\n",
    "else:\n",
    "    %cd /content/$REPO\n",
    "    !git fetch origin\n",
    "    !git checkout integrate\n",
    "    !git pull --rebase origin integrate\n",
    "%cd /content/$REPO\n",
    "\n",
    "# Autoreload and path for src/\n",
    "%load_ext autoreload\n",
    "%autoreload 2\n",
    "sys.path.append(f\"/content/{REPO}/src\")\n",
    "\n",
    "# Load shared config if present\n",
    "try:\n",
    "    import yaml, pprint\n",
    "    with open('configs/project.yaml') as f:\n",
    "        cfg = yaml.safe_load(f)\n",
    "    print(\"Loaded config:\")\n",
    "    pprint.pprint(cfg)\n",
    "except Exception as e:\n",
    "    print(\"Config not found yet or YAML error:\", e)\n"
   ]
  },
  {
   "cell_type": "code",
   "execution_count": null,
   "id": "b3b3f8f9",
   "metadata": {},
   "outputs": [],
   "source": [
    "# Start coding below\n"
   ]
  }
 ],
 "metadata": {
  "kernelspec": {
   "display_name": "Python 3",
   "language": "python",
   "name": "python3"
  },
  "language_info": {
   "name": "python",
   "version": "3.x"
  }
 },
 "nbformat": 4,
 "nbformat_minor": 5
}
