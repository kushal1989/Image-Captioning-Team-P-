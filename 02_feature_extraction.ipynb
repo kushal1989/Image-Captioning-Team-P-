{
 "cells": [
  {
   "cell_type": "markdown",
   "id": "7486e840",
   "metadata": {},
   "source": [
    "# Feature Extraction — Team B\n",
    "\n",
    "_Last updated: 2025-07-30_\n",
    "\n",
    "\n",
    "**Team B — Feature Extraction**\n",
    "\n",
    "**Tasks**\n",
    "1. Load **InceptionV3** (ImageNet), remove top layer.\n",
    "2. Extract features: choose **spatial (e.g., 8×8×2048)** or **pooled (2048)** — match `feature_type` in config.\n",
    "3. Cache features under `features_dir` (train/val), shard if large.\n",
    "4. Update `artifacts/MANIFEST.json` with exact feature paths.\n",
    "\n",
    "**Where code lives**\n",
    "- Implement extractor & caching in `src/vision/`. Import and call from here.\n",
    "\n",
    "**Deliverables**\n",
    "- Timing report (images/sec)\n",
    "- Feature shape verification cell\n"
   ]
  },
  {
   "cell_type": "code",
   "execution_count": null,
   "id": "dc2e130e",
   "metadata": {},
   "outputs": [],
   "source": [
    "\n",
    "# Mount Drive (optional)\n",
    "from google.colab import drive\n",
    "try:\n",
    "    drive.mount('/content/drive')\n",
    "except Exception as e:\n",
    "    print(\"Drive mount skipped or failed:\", e)\n",
    "\n",
    "# Clone or update the repo\n",
    "import os, sys\n",
    "REPO = \"Image-Captioning-Team-P-\"\n",
    "URL  = \"https://github.com/kushal1989/\" + REPO + \".git\"\n",
    "\n",
    "if not os.path.exists(f\"/content/{REPO}\"):\n",
    "    !git clone $URL /content/$REPO\n",
    "else:\n",
    "    %cd /content/$REPO\n",
    "    !git fetch origin\n",
    "    !git checkout integrate\n",
    "    !git pull --rebase origin integrate\n",
    "%cd /content/$REPO\n",
    "\n",
    "# Autoreload and path for src/\n",
    "%load_ext autoreload\n",
    "%autoreload 2\n",
    "sys.path.append(f\"/content/{REPO}/src\")\n",
    "\n",
    "# Load shared config if present\n",
    "try:\n",
    "    import yaml, pprint\n",
    "    with open('configs/project.yaml') as f:\n",
    "        cfg = yaml.safe_load(f)\n",
    "    print(\"Loaded config:\")\n",
    "    pprint.pprint(cfg)\n",
    "except Exception as e:\n",
    "    print(\"Config not found yet or YAML error:\", e)\n"
   ]
  },
  {
   "cell_type": "code",
   "execution_count": null,
   "id": "617420c2",
   "metadata": {},
   "outputs": [],
   "source": [
    "# Start coding below\n"
   ]
  }
 ],
 "metadata": {
  "kernelspec": {
   "display_name": "Python 3",
   "language": "python",
   "name": "python3"
  },
  "language_info": {
   "name": "python",
   "version": "3.x"
  }
 },
 "nbformat": 4,
 "nbformat_minor": 5
}
