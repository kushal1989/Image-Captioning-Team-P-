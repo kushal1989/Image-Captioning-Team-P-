{
 "cells": [
  {
   "cell_type": "markdown",
   "id": "fd62409c",
   "metadata": {},
   "source": [
    "# Baseline Model — Team C\n",
    "\n",
    "_Last updated: 2025-07-30_\n",
    "\n",
    "\n",
    "**Team C — Baseline Model (Encoder→LSTM Decoder)**\n",
    "\n",
    "**Tasks**\n",
    "1. Build encoder projection for features → decoder hidden size.\n",
    "2. LSTM decoder with teacher forcing; masking for padded tokens.\n",
    "3. Loss: categorical cross-entropy; Optimizer: Adam (+ grad clip, LR schedule).\n",
    "4. Overfit a 64-image mini-set (sanity), then train on train/val.\n",
    "5. Save checkpoint to `artifacts/` and log training curves.\n",
    "\n",
    "**Where code lives**\n",
    "- Model classes in `src/models/`, training loop in `src/train/`.\n",
    "\n",
    "**Deliverables**\n",
    "- Training logs, baseline checkpoint, sample captions for 10 images.\n"
   ]
  },
  {
   "cell_type": "code",
   "execution_count": null,
   "id": "78842110",
   "metadata": {},
   "outputs": [],
   "source": [
    "\n",
    "# Mount Drive (optional)\n",
    "from google.colab import drive\n",
    "try:\n",
    "    drive.mount('/content/drive')\n",
    "except Exception as e:\n",
    "    print(\"Drive mount skipped or failed:\", e)\n",
    "\n",
    "# Clone or update the repo\n",
    "import os, sys\n",
    "REPO = \"Image-Captioning-Team-P-\"\n",
    "URL  = \"https://github.com/kushal1989/\" + REPO + \".git\"\n",
    "\n",
    "if not os.path.exists(f\"/content/{REPO}\"):\n",
    "    !git clone $URL /content/$REPO\n",
    "else:\n",
    "    %cd /content/$REPO\n",
    "    !git fetch origin\n",
    "    !git checkout integrate\n",
    "    !git pull --rebase origin integrate\n",
    "%cd /content/$REPO\n",
    "\n",
    "# Autoreload and path for src/\n",
    "%load_ext autoreload\n",
    "%autoreload 2\n",
    "sys.path.append(f\"/content/{REPO}/src\")\n",
    "\n",
    "# Load shared config if present\n",
    "try:\n",
    "    import yaml, pprint\n",
    "    with open('configs/project.yaml') as f:\n",
    "        cfg = yaml.safe_load(f)\n",
    "    print(\"Loaded config:\")\n",
    "    pprint.pprint(cfg)\n",
    "except Exception as e:\n",
    "    print(\"Config not found yet or YAML error:\", e)\n"
   ]
  },
  {
   "cell_type": "code",
   "execution_count": null,
   "id": "0c68e919",
   "metadata": {},
   "outputs": [],
   "source": [
    "# Start coding below\n"
   ]
  }
 ],
 "metadata": {
  "kernelspec": {
   "display_name": "Python 3",
   "language": "python",
   "name": "python3"
  },
  "language_info": {
   "name": "python",
   "version": "3.x"
  }
 },
 "nbformat": 4,
 "nbformat_minor": 5
}
