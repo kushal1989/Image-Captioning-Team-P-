{
 "cells": [
  {
   "cell_type": "markdown",
   "id": "c3bf32e0",
   "metadata": {},
   "source": [
    "# Attention Model — Team D\n",
    "\n",
    "_Last updated: 2025-07-30_\n",
    "\n",
    "\n",
    "**Team D — Attention Model**\n",
    "\n",
    "**Tasks**\n",
    "1. Add Bahdanau or Luong attention over spatial CNN features.\n",
    "2. Keep same tokenizer/config; visualize attention maps.\n",
    "3. Train with comparable settings to baseline; report BLEU deltas.\n",
    "\n",
    "**Where code lives**\n",
    "- Attention module in `src/models/`, training updates in `src/train/`.\n",
    "\n",
    "**Deliverables**\n",
    "- Attention heatmaps for 5 images, metrics table vs baseline.\n"
   ]
  },
  {
   "cell_type": "code",
   "execution_count": null,
   "id": "6c1c0b69",
   "metadata": {},
   "outputs": [],
   "source": [
    "\n",
    "# Mount Drive (optional)\n",
    "from google.colab import drive\n",
    "try:\n",
    "    drive.mount('/content/drive')\n",
    "except Exception as e:\n",
    "    print(\"Drive mount skipped or failed:\", e)\n",
    "\n",
    "# Clone or update the repo\n",
    "import os, sys\n",
    "REPO = \"Image-Captioning-Team-P-\"\n",
    "URL  = \"https://github.com/kushal1989/\" + REPO + \".git\"\n",
    "\n",
    "if not os.path.exists(f\"/content/{REPO}\"):\n",
    "    !git clone $URL /content/$REPO\n",
    "else:\n",
    "    %cd /content/$REPO\n",
    "    !git fetch origin\n",
    "    !git checkout integrate\n",
    "    !git pull --rebase origin integrate\n",
    "%cd /content/$REPO\n",
    "\n",
    "# Autoreload and path for src/\n",
    "%load_ext autoreload\n",
    "%autoreload 2\n",
    "sys.path.append(f\"/content/{REPO}/src\")\n",
    "\n",
    "# Load shared config if present\n",
    "try:\n",
    "    import yaml, pprint\n",
    "    with open('configs/project.yaml') as f:\n",
    "        cfg = yaml.safe_load(f)\n",
    "    print(\"Loaded config:\")\n",
    "    pprint.pprint(cfg)\n",
    "except Exception as e:\n",
    "    print(\"Config not found yet or YAML error:\", e)\n"
   ]
  },
  {
   "cell_type": "code",
   "execution_count": null,
   "id": "59177024",
   "metadata": {},
   "outputs": [],
   "source": [
    "# Start coding below\n"
   ]
  }
 ],
 "metadata": {
  "kernelspec": {
   "display_name": "Python 3",
   "language": "python",
   "name": "python3"
  },
  "language_info": {
   "name": "python",
   "version": "3.x"
  }
 },
 "nbformat": 4,
 "nbformat_minor": 5
}
