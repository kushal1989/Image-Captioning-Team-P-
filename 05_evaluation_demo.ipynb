{
 "cells": [
  {
   "cell_type": "markdown",
   "id": "9a0e3070",
   "metadata": {},
   "source": [
    "# Evaluation & Demo — Team E\n",
    "\n",
    "_Last updated: 2025-07-30_\n",
    "\n",
    "\n",
    "**Team E — Evaluation & Demo**\n",
    "\n",
    "**Tasks**\n",
    "1. Compute BLEU-1/2/3/4 on validation set (multiple references).\n",
    "2. Generate qualitative panels: image + predicted vs reference captions.\n",
    "3. (Optional) Streamlit/Gradio demo: upload image → caption (+ attention overlay if available).\n",
    "\n",
    "**Where code lives**\n",
    "- Metrics and viz in `src/eval/`. This notebook orchestrates evaluation tasks.\n",
    "\n",
    "**Deliverables**\n",
    "- BLEU report, 50-image qualitative sheet, simple demo app (optional).\n"
   ]
  },
  {
   "cell_type": "code",
   "execution_count": null,
   "id": "33f50555",
   "metadata": {},
   "outputs": [],
   "source": [
    "\n",
    "# Mount Drive (optional)\n",
    "from google.colab import drive\n",
    "try:\n",
    "    drive.mount('/content/drive')\n",
    "except Exception as e:\n",
    "    print(\"Drive mount skipped or failed:\", e)\n",
    "\n",
    "# Clone or update the repo\n",
    "import os, sys\n",
    "REPO = \"Image-Captioning-Team-P-\"\n",
    "URL  = \"https://github.com/kushal1989/\" + REPO + \".git\"\n",
    "\n",
    "if not os.path.exists(f\"/content/{REPO}\"):\n",
    "    !git clone $URL /content/$REPO\n",
    "else:\n",
    "    %cd /content/$REPO\n",
    "    !git fetch origin\n",
    "    !git checkout integrate\n",
    "    !git pull --rebase origin integrate\n",
    "%cd /content/$REPO\n",
    "\n",
    "# Autoreload and path for src/\n",
    "%load_ext autoreload\n",
    "%autoreload 2\n",
    "sys.path.append(f\"/content/{REPO}/src\")\n",
    "\n",
    "# Load shared config if present\n",
    "try:\n",
    "    import yaml, pprint\n",
    "    with open('configs/project.yaml') as f:\n",
    "        cfg = yaml.safe_load(f)\n",
    "    print(\"Loaded config:\")\n",
    "    pprint.pprint(cfg)\n",
    "except Exception as e:\n",
    "    print(\"Config not found yet or YAML error:\", e)\n"
   ]
  },
  {
   "cell_type": "code",
   "execution_count": null,
   "id": "18425434",
   "metadata": {},
   "outputs": [],
   "source": [
    "# Start coding below\n"
   ]
  }
 ],
 "metadata": {
  "kernelspec": {
   "display_name": "Python 3",
   "language": "python",
   "name": "python3"
  },
  "language_info": {
   "name": "python",
   "version": "3.x"
  }
 },
 "nbformat": 4,
 "nbformat_minor": 5
}
